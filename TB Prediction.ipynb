{
 "cells": [
  {
   "cell_type": "code",
   "execution_count": 1,
   "id": "23f7c554-5e37-488c-b915-a5c37bbd8908",
   "metadata": {},
   "outputs": [],
   "source": [
    "import numpy as np\n",
    "import pandas as pd\n",
    "import matplotlib.pyplot as plt\n",
    "import seaborn as sns\n",
    "from sklearn.metrics import classification_report, confusion_matrix\n",
    "\n",
    "\n",
    "import tensorflow\n",
    "\n",
    "from keras.layers import Dense, BatchNormalization, Conv2D, MaxPool2D, Flatten\n",
    "from keras.callbacks import EarlyStopping\n",
    "from tensorflow.keras.optimizers import Adam\n",
    "from keras.regularizers import L1, L2, L1L2\n",
    "from keras.layers import Dropout\n",
    "\n",
    "from keras.models import Sequential\n",
    "from tensorflow.keras.preprocessing.image import ImageDataGenerator, img_to_array, load_img"
   ]
  },
  {
   "cell_type": "code",
   "execution_count": null,
   "id": "5cfa6a21-0fa4-4e9c-ac92-598b713216ff",
   "metadata": {},
   "outputs": [],
   "source": []
  },
  {
   "cell_type": "code",
   "execution_count": null,
   "id": "859ff7fa-66ed-42e6-8c4d-6063b50d3a34",
   "metadata": {},
   "outputs": [],
   "source": [
    "# creating new images using Data Augmentation\n",
    "import os\n",
    "\n",
    "\n",
    "base_directory = r\"C:\\Users\\MA\\Desktop\\TB prediction using CNN\\Tuberculosis\"\n",
    "save_directory = r\"C:\\Users\\MA\\Desktop\\TB prediction using CNN\\preview_TB\"\n",
    "num_images_to_generate = 2800\n",
    "batch_size = 5\n",
    "\n",
    "datagen = ImageDataGenerator(\n",
    "    rotation_range = 10,\n",
    "    width_shift_range = 0.2,\n",
    "    height_shift_range = 0.2,\n",
    "    shear_range = 0.2,\n",
    "    zoom_range = 0.2,\n",
    "    horizontal_flip = False,\n",
    "    fill_mode = 'nearest',\n",
    "    brightness_range=[0.8, 1.2],  # Random brightness adjustments between 80% and 120%\n",
    "    channel_shift_range=0.1\n",
    ")\n",
    "\n",
    "original_images = [f for f in os.listdir(base_directory) if f.endswith('.png')]  # Adjust extensions as needed\n",
    "\n",
    "# Loop through original images to generate augmented images\n",
    "for img_name in original_images:\n",
    "    img_path = os.path.join(base_directory, img_name)\n",
    "    img = load_img(img_path)  # Load the image\n",
    "    x = img_to_array(img)     # Convert it to a numpy array\n",
    "    x = x.reshape((1,) + x.shape)  # Reshape it to (1, height, width, channels)\n",
    "\n",
    "\n",
    "# Generate augmented images and save them\n",
    "    i = 0\n",
    "    for batch in datagen.flow(x, batch_size=batch_size, save_to_dir=save_directory,\n",
    "                              save_prefix='aug', save_format='jpeg'):\n",
    "        i += 1\n",
    "        if i >= num_images_to_generate // len(original_images):  # Generate per original image\n",
    "            break  # Stop after generating enough images\n"
   ]
  },
  {
   "cell_type": "code",
   "execution_count": null,
   "id": "73eba7ae-8755-426b-bacb-32fb9e9f883a",
   "metadata": {},
   "outputs": [],
   "source": []
  },
  {
   "cell_type": "code",
   "execution_count": null,
   "id": "6f47a594-f087-4556-b6ca-f9633ce674c3",
   "metadata": {},
   "outputs": [],
   "source": []
  },
  {
   "cell_type": "markdown",
   "id": "be4d34b5-44db-4626-9853-34ddf4d8ccea",
   "metadata": {},
   "source": [
    "### Building CNN "
   ]
  },
  {
   "cell_type": "code",
   "execution_count": 2,
   "id": "6aea0a44-1bdd-47f6-96ec-8a461d37b158",
   "metadata": {},
   "outputs": [],
   "source": [
    "cnn = Sequential()"
   ]
  },
  {
   "cell_type": "code",
   "execution_count": 3,
   "id": "ff116385-4f70-486e-87f7-cfbc7cdadea2",
   "metadata": {},
   "outputs": [
    {
     "name": "stderr",
     "output_type": "stream",
     "text": [
      "C:\\Users\\MA\\anaconda3\\Lib\\site-packages\\keras\\src\\layers\\convolutional\\base_conv.py:107: UserWarning: Do not pass an `input_shape`/`input_dim` argument to a layer. When using Sequential models, prefer using an `Input(shape)` object as the first layer in the model instead.\n",
      "  super().__init__(activity_regularizer=activity_regularizer, **kwargs)\n"
     ]
    }
   ],
   "source": [
    "cnn.add(Conv2D(16, (2,2), input_shape = (256,256,3), activation='relu'))\n",
    "cnn.add(MaxPool2D(pool_size=(2,2)))\n",
    "\n",
    "cnn.add(Conv2D(32, (2,2), activation = 'relu'))\n",
    "cnn.add(MaxPool2D(pool_size=(2,2)))\n",
    "\n",
    "cnn.add(Conv2D(64, (2,2), activation = 'relu'))\n",
    "cnn.add(MaxPool2D(pool_size=(2,2)))\n",
    "\n",
    "cnn.add(Conv2D(128, (2,2), activation = 'relu'))\n",
    "cnn.add(MaxPool2D(pool_size=(2,2)))\n",
    "\n",
    "\n",
    "cnn.add(Flatten())"
   ]
  },
  {
   "cell_type": "code",
   "execution_count": 4,
   "id": "173a8c4a-639b-4c9a-b72d-e6510ef36ef3",
   "metadata": {},
   "outputs": [],
   "source": [
    "#cnn.add(Dense(256, activation= 'relu'))\n",
    "#cnn.add(BatchNormalization())\n",
    "#cnn.add(Dropout(0.2))\n",
    "\n",
    "cnn.add(Dense(128, activation= 'relu'))\n",
    "cnn.add(BatchNormalization())\n",
    "cnn.add(Dropout(0.2))\n",
    "\n",
    "cnn.add(Dense(64, activation= 'relu'))\n",
    "cnn.add(BatchNormalization())\n",
    "#cnn.add(Dropout(0.2))\n",
    "\n",
    "cnn.add(Dense(32, activation= 'relu'))\n",
    "cnn.add(BatchNormalization())\n",
    "#cnn.add(Dropout(0.2))\n",
    "\n",
    "cnn.add(Dense(16, activation= 'relu'))\n",
    "cnn.add(BatchNormalization())\n",
    "#cnn.add(Dropout(0.2))\n",
    "\n",
    "cnn.add(Dense(8, activation= 'relu'))\n",
    "cnn.add(BatchNormalization())\n",
    "cnn.add(Dropout(0.2))\n",
    "\n",
    "\n",
    "cnn.add(Dense(1, activation = 'sigmoid'))"
   ]
  },
  {
   "cell_type": "markdown",
   "id": "ff8c0f7c-81bc-4d99-8439-ff8c244f35ff",
   "metadata": {},
   "source": [
    "### Compiling our Model"
   ]
  },
  {
   "cell_type": "code",
   "execution_count": 5,
   "id": "186a1745-9406-495b-bc3c-557c6f4a300a",
   "metadata": {},
   "outputs": [],
   "source": [
    "adam_optimizer = Adam(learning_rate=0.001)\n",
    "\n",
    "cnn.compile(loss = 'binary_crossentropy', optimizer = adam_optimizer, metrics = ['accuracy'])"
   ]
  },
  {
   "cell_type": "markdown",
   "id": "4a9dd6e1-2fd1-4cfc-8fc5-a6cb858f68a3",
   "metadata": {},
   "source": [
    "## Loading and Training our Model"
   ]
  },
  {
   "cell_type": "code",
   "execution_count": 7,
   "id": "81184164-c6db-445e-aee7-f5b3cd79549d",
   "metadata": {},
   "outputs": [
    {
     "name": "stdout",
     "output_type": "stream",
     "text": [
      "Found 4492 images belonging to 2 classes.\n",
      "Found 400 images belonging to 2 classes.\n",
      "Epoch 1/15\n"
     ]
    },
    {
     "name": "stderr",
     "output_type": "stream",
     "text": [
      "C:\\Users\\MA\\anaconda3\\Lib\\site-packages\\keras\\src\\trainers\\data_adapters\\py_dataset_adapter.py:122: UserWarning: Your `PyDataset` class should call `super().__init__(**kwargs)` in its constructor. `**kwargs` can include `workers`, `use_multiprocessing`, `max_queue_size`. Do not pass these arguments to `fit()`, as they will be ignored.\n",
      "  self._warn_if_super_not_called()\n"
     ]
    },
    {
     "name": "stdout",
     "output_type": "stream",
     "text": [
      "\u001b[1m141/141\u001b[0m \u001b[32m━━━━━━━━━━━━━━━━━━━━\u001b[0m\u001b[37m\u001b[0m \u001b[1m212s\u001b[0m 1s/step - accuracy: 0.7311 - loss: 0.5540 - val_accuracy: 0.5000 - val_loss: 1.1681\n",
      "Epoch 2/15\n",
      "\u001b[1m141/141\u001b[0m \u001b[32m━━━━━━━━━━━━━━━━━━━━\u001b[0m\u001b[37m\u001b[0m \u001b[1m204s\u001b[0m 1s/step - accuracy: 0.8607 - loss: 0.3487 - val_accuracy: 0.5475 - val_loss: 0.8325\n",
      "Epoch 3/15\n",
      "\u001b[1m141/141\u001b[0m \u001b[32m━━━━━━━━━━━━━━━━━━━━\u001b[0m\u001b[37m\u001b[0m \u001b[1m208s\u001b[0m 1s/step - accuracy: 0.8899 - loss: 0.2774 - val_accuracy: 0.9250 - val_loss: 0.2731\n",
      "Epoch 4/15\n",
      "\u001b[1m141/141\u001b[0m \u001b[32m━━━━━━━━━━━━━━━━━━━━\u001b[0m\u001b[37m\u001b[0m \u001b[1m222s\u001b[0m 2s/step - accuracy: 0.8822 - loss: 0.3042 - val_accuracy: 0.9200 - val_loss: 0.2447\n",
      "Epoch 5/15\n",
      "\u001b[1m141/141\u001b[0m \u001b[32m━━━━━━━━━━━━━━━━━━━━\u001b[0m\u001b[37m\u001b[0m \u001b[1m232s\u001b[0m 2s/step - accuracy: 0.8819 - loss: 0.2949 - val_accuracy: 0.9350 - val_loss: 0.2131\n",
      "Epoch 6/15\n",
      "\u001b[1m141/141\u001b[0m \u001b[32m━━━━━━━━━━━━━━━━━━━━\u001b[0m\u001b[37m\u001b[0m \u001b[1m217s\u001b[0m 1s/step - accuracy: 0.8977 - loss: 0.2726 - val_accuracy: 0.8675 - val_loss: 0.3458\n",
      "Epoch 7/15\n",
      "\u001b[1m141/141\u001b[0m \u001b[32m━━━━━━━━━━━━━━━━━━━━\u001b[0m\u001b[37m\u001b[0m \u001b[1m1812s\u001b[0m 13s/step - accuracy: 0.9027 - loss: 0.2508 - val_accuracy: 0.8475 - val_loss: 0.3242\n",
      "Epoch 8/15\n",
      "\u001b[1m141/141\u001b[0m \u001b[32m━━━━━━━━━━━━━━━━━━━━\u001b[0m\u001b[37m\u001b[0m \u001b[1m233s\u001b[0m 2s/step - accuracy: 0.8944 - loss: 0.2642 - val_accuracy: 0.7200 - val_loss: 0.5278\n",
      "Epoch 9/15\n",
      "\u001b[1m141/141\u001b[0m \u001b[32m━━━━━━━━━━━━━━━━━━━━\u001b[0m\u001b[37m\u001b[0m \u001b[1m210s\u001b[0m 1s/step - accuracy: 0.9111 - loss: 0.2337 - val_accuracy: 0.7875 - val_loss: 0.4273\n",
      "Epoch 10/15\n",
      "\u001b[1m141/141\u001b[0m \u001b[32m━━━━━━━━━━━━━━━━━━━━\u001b[0m\u001b[37m\u001b[0m \u001b[1m212s\u001b[0m 1s/step - accuracy: 0.9224 - loss: 0.2110 - val_accuracy: 0.8400 - val_loss: 0.3997\n"
     ]
    }
   ],
   "source": [
    "early_stopping = EarlyStopping( patience=5, restore_best_weights=True)\n",
    "\n",
    "\n",
    "train_datagen = ImageDataGenerator(\n",
    "        rescale=1./255,\n",
    "        shear_range=0.2,\n",
    "        zoom_range=0.2,\n",
    "        horizontal_flip=True,\n",
    "        rotation_range=30,        # Random rotation between 0 and 40 degrees\n",
    "        brightness_range=[0.8, 1.2],  # Random brightness adjustments between 80% and 120%\n",
    "        channel_shift_range=0.1   # Random contrast changes by shifting pixel intensity\n",
    ")\n",
    "\n",
    "test_datagen = ImageDataGenerator(rescale=1./255)\n",
    "\n",
    "train_generator = train_datagen.flow_from_directory(\n",
    "        r\"C:\\Users\\MA\\Desktop\\TB prediction using CNN\\Training Data\",\n",
    "        target_size=(256, 256),\n",
    "        batch_size=32,\n",
    "        class_mode='binary',\n",
    "        shuffle =True)\n",
    "\n",
    "test_generator = test_datagen.flow_from_directory(\n",
    "        r\"C:\\Users\\MA\\Desktop\\TB prediction using CNN\\Testing data\",\n",
    "        target_size=(256, 256),\n",
    "        batch_size=32,\n",
    "        class_mode='binary',\n",
    "        shuffle=False)\n",
    "\n",
    "history = cnn.fit(\n",
    "        train_generator,\n",
    "        epochs=15,\n",
    "        validation_data=test_generator, callbacks = [early_stopping])"
   ]
  },
  {
   "cell_type": "markdown",
   "id": "8da01c43-bb57-4bd2-ba0b-8c765e1a1940",
   "metadata": {},
   "source": [
    "# Results"
   ]
  },
  {
   "cell_type": "code",
   "execution_count": 8,
   "id": "7dcfb2ce-3a58-4a54-b209-47c51addc509",
   "metadata": {},
   "outputs": [
    {
     "name": "stdout",
     "output_type": "stream",
     "text": [
      "\u001b[1m13/13\u001b[0m \u001b[32m━━━━━━━━━━━━━━━━━━━━\u001b[0m\u001b[37m\u001b[0m \u001b[1m4s\u001b[0m 325ms/step - accuracy: 0.9200 - loss: 0.2618\n",
      "\n",
      "Test Accuracy is 0.9350000023841858\n"
     ]
    }
   ],
   "source": [
    "# checking accuracy of model\n",
    "loss, accuracy = cnn.evaluate(test_generator)\n",
    "\n",
    "print(f'\\nTest Accuracy is {accuracy}')"
   ]
  },
  {
   "cell_type": "code",
   "execution_count": null,
   "id": "b458ff03-2bb8-493c-b9a8-5606dc1c4f87",
   "metadata": {},
   "outputs": [],
   "source": []
  },
  {
   "cell_type": "markdown",
   "id": "bb61804c-da53-421b-9651-e4ae223ffdc1",
   "metadata": {},
   "source": [
    "### Training and Validation Accuracy"
   ]
  },
  {
   "cell_type": "code",
   "execution_count": 9,
   "id": "a6a6b6f8-6290-4e0d-952b-7a38f6e5fd5d",
   "metadata": {},
   "outputs": [
    {
     "data": {
      "image/png": "[encoded data removed]",
      "text/plain": [
       "<Figure size 640x480 with 1 Axes>"
      ]
     },
     "metadata": {},
     "output_type": "display_data"
    }
   ],
   "source": [
    "# Plot training accuracy\n",
    "plt.plot(history.history['accuracy'], label='Training Accuracy')\n",
    "# Plot validation accuracy\n",
    "plt.plot(history.history['val_accuracy'], label='Validation Accuracy')\n",
    "\n",
    "# Add labels and title\n",
    "plt.xlabel('Epochs')\n",
    "plt.ylabel('Accuracy')\n",
    "plt.title('Training and Validation Accuracy')\n",
    "plt.ylim(0, 1.00)\n",
    "# Add legend to the plot\n",
    "plt.legend()\n",
    "# Show the plot\n",
    "plt.show()"
   ]
  },
  {
   "cell_type": "code",
   "execution_count": null,
   "id": "63d44749-0049-4963-96db-b5e2af03d74f",
   "metadata": {},
   "outputs": [],
   "source": []
  },
  {
   "cell_type": "markdown",
   "id": "1b256471-c8e9-498e-9a30-112d0d900490",
   "metadata": {},
   "source": [
    "### Training and Validation Loss"
   ]
  },
  {
   "cell_type": "code",
   "execution_count": 10,
   "id": "fd68bad8-2129-4e74-a549-9320f7440ee2",
   "metadata": {},
   "outputs": [
    {
     "data": {
      "image/png": "[encoded data removed]",
      "text/plain": [
       "<Figure size 640x480 with 1 Axes>"
      ]
     },
     "metadata": {},
     "output_type": "display_data"
    }
   ],
   "source": [
    "# Plot training accuracy\n",
    "plt.plot(history.history['loss'], label='Training loss')\n",
    "# Plot validation accuracy\n",
    "plt.plot(history.history['val_loss'], label='Validation loss')\n",
    "\n",
    "# Add labels and title\n",
    "plt.xlabel('Epochs')\n",
    "plt.ylabel('loss')\n",
    "plt.title('Training and Validation loss')\n",
    "plt.ylim(0, 3.00)\n",
    "# Add legend to the plot\n",
    "plt.legend()\n",
    "# Show the plot\n",
    "plt.show()"
   ]
  },
  {
   "cell_type": "code",
   "execution_count": null,
   "id": "86d0f4d9-e092-4c27-a6b1-b4658c08cc7b",
   "metadata": {},
   "outputs": [],
   "source": []
  },
  {
   "cell_type": "markdown",
   "id": "db9d6252-8fb1-4940-b66f-ef49031d5670",
   "metadata": {},
   "source": [
    "### Classification Report and Confusion Metrix"
   ]
  },
  {
   "cell_type": "code",
   "execution_count": 11,
   "id": "71e95f1e-8b7a-44b9-8a96-17e1b2c46af1",
   "metadata": {},
   "outputs": [
    {
     "name": "stdout",
     "output_type": "stream",
     "text": [
      "\u001b[1m13/13\u001b[0m \u001b[32m━━━━━━━━━━━━━━━━━━━━\u001b[0m\u001b[37m\u001b[0m \u001b[1m7s\u001b[0m 499ms/step\n",
      "Classification Report:\n",
      "              precision    recall  f1-score   support\n",
      "\n",
      "      Not TB       0.96      0.91      0.93       200\n",
      "          TB       0.91      0.96      0.94       200\n",
      "\n",
      "    accuracy                           0.94       400\n",
      "   macro avg       0.94      0.94      0.93       400\n",
      "weighted avg       0.94      0.94      0.93       400\n",
      "\n"
     ]
    },
    {
     "data": {
      "image/png": "[encoded data removed]",
      "text/plain": [
       "<Figure size 800x500 with 2 Axes>"
      ]
     },
     "metadata": {},
     "output_type": "display_data"
    }
   ],
   "source": [
    "# Predict on test data\n",
    "y_pred = cnn.predict(test_generator)\n",
    "y_pred = (y_pred > 0.5).astype(int)  # Convert probabilities to binary class labels\n",
    "\n",
    "# Extract true labels from test_generator\n",
    "y_test = test_generator.classes\n",
    "\n",
    "# Print classification report\n",
    "print(\"Classification Report:\")\n",
    "print(classification_report(y_test, y_pred, target_names=['Not TB', 'TB']))  # Assuming binary classification 'Not TB' and 'TB'\n",
    "\n",
    "# Compute confusion matrix\n",
    "cm = confusion_matrix(y_test, y_pred)\n",
    "\n",
    "# Plot confusion matrix\n",
    "plt.figure(figsize=(8, 5))\n",
    "sns.heatmap(cm, annot=True, fmt='d', cmap='Blues', xticklabels=['Not TB', 'TB'], yticklabels=['Not TB', 'TB'])\n",
    "plt.xlabel('Predicted')\n",
    "plt.ylabel('True')\n",
    "plt.title('Confusion Matrix')\n",
    "plt.show()"
   ]
  },
  {
   "cell_type": "code",
   "execution_count": null,
   "id": "67801499-a24d-417c-81a5-eca41159b957",
   "metadata": {},
   "outputs": [],
   "source": []
  }
 ],
 "metadata": {
  "kernelspec": {
   "display_name": "Python 3 (ipykernel)",
   "language": "python",
   "name": "python3"
  },
  "language_info": {
   "codemirror_mode": {
    "name": "ipython",
    "version": 3
   },
   "file_extension": ".py",
   "mimetype": "text/x-python",
   "name": "python",
   "nbconvert_exporter": "python",
   "pygments_lexer": "ipython3",
   "version": "3.12.4"
  }
 },
 "nbformat": 4,
 "nbformat_minor": 5
}
